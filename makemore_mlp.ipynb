{
 "cells": [
  {
   "cell_type": "code",
   "execution_count": 1,
   "id": "ef021221",
   "metadata": {},
   "outputs": [],
   "source": [
    "import torch\n",
    "import torch.nn.functional as F\n",
    "import matplotlib.pyplot as plt\n",
    "%matplotlib inline\n",
    "import random"
   ]
  },
  {
   "cell_type": "code",
   "execution_count": 2,
   "id": "ed933652",
   "metadata": {},
   "outputs": [
    {
     "data": {
      "text/plain": [
       "['emma', 'olivia', 'ava', 'isabella', 'sophia', 'charlotte', 'mia', 'amelia']"
      ]
     },
     "execution_count": 2,
     "metadata": {},
     "output_type": "execute_result"
    }
   ],
   "source": [
    "words = open('names.txt').read().splitlines()\n",
    "words[:8]"
   ]
  },
  {
   "cell_type": "code",
   "execution_count": 3,
   "id": "fed22232",
   "metadata": {},
   "outputs": [
    {
     "data": {
      "text/plain": [
       "32033"
      ]
     },
     "execution_count": 3,
     "metadata": {},
     "output_type": "execute_result"
    }
   ],
   "source": [
    "len(words)"
   ]
  },
  {
   "cell_type": "code",
   "execution_count": 4,
   "id": "7e503bd4",
   "metadata": {},
   "outputs": [],
   "source": [
    "chars = sorted(list(set(''.join(words))))"
   ]
  },
  {
   "cell_type": "code",
   "execution_count": 5,
   "id": "3ecba517",
   "metadata": {},
   "outputs": [
    {
     "name": "stdout",
     "output_type": "stream",
     "text": [
      "{1: 'a', 2: 'b', 3: 'c', 4: 'd', 5: 'e', 6: 'f', 7: 'g', 8: 'h', 9: 'i', 10: 'j', 11: 'k', 12: 'l', 13: 'm', 14: 'n', 15: 'o', 16: 'p', 17: 'q', 18: 'r', 19: 's', 20: 't', 21: 'u', 22: 'v', 23: 'w', 24: 'x', 25: 'y', 26: 'z', 0: '.'}\n"
     ]
    }
   ],
   "source": [
    "stoi = {s:i+1 for i,s in enumerate(chars)}\n",
    "stoi['.'] = 0\n",
    "itos = {i:s for s,i in stoi.items()}\n",
    "print(itos)"
   ]
  },
  {
   "cell_type": "code",
   "execution_count": 6,
   "id": "9b9cc502",
   "metadata": {},
   "outputs": [],
   "source": [
    "#Build the dataset\n",
    "\n",
    "def build_dataset(words, len_context):\n",
    "    block_size = len_context # context length / Hyper parameter to tune\n",
    "    X, Y = [], []\n",
    "    random.shuffle(words)\n",
    "    for w in words:\n",
    "        context = [0] * block_size\n",
    "        for ch in w + '.':\n",
    "            ix = stoi[ch]\n",
    "            X.append(context)\n",
    "            Y.append(ix)\n",
    "            context = context[1:] + [ix]\n",
    "    \n",
    "    \n",
    "    n_tr = int(0.9 * len(words))\n",
    "    print(len(words), n_tr)\n",
    "    n_te = int(0.95 * len(words))\n",
    "    X_tr = torch.tensor(X[:n_tr])\n",
    "    Y_tr = torch.tensor(Y[:n_tr])\n",
    "    \n",
    "    X_dev = torch.tensor(X[n_tr: n_te])\n",
    "    Y_dev = torch.tensor(Y[n_tr: n_te])\n",
    "    \n",
    "    X_test = torch.tensor(X[n_te:])\n",
    "    Y_test = torch.tensor(Y[n_te:])\n",
    "    return {\"training\": { \"X_tr\": X_tr, \"Y_tr\" : Y_tr}, \n",
    "             \"dev\": {\"X_dev\" : X_dev, \"Y_dev\" : Y_dev}, \n",
    "            \"test\": {\"X_test\" : X_test, \"Y_test\": Y_test}}\n"
   ]
  },
  {
   "cell_type": "code",
   "execution_count": 17,
   "id": "53f5589d",
   "metadata": {},
   "outputs": [],
   "source": [
    "batch_size = 64\n",
    "emb_len = 3\n",
    "neurons = 100\n",
    "training_steps = 1000000\n",
    "len_context = 15"
   ]
  },
  {
   "cell_type": "code",
   "execution_count": 18,
   "id": "2e98bf34",
   "metadata": {},
   "outputs": [
    {
     "name": "stdout",
     "output_type": "stream",
     "text": [
      "32033 28829\n"
     ]
    }
   ],
   "source": [
    "\n",
    "dataset = build_dataset(words, len_context)\n",
    "X_tr = dataset[\"training\"][\"X_tr\"]\n",
    "Y_tr = dataset[\"training\"][\"Y_tr\"]\n",
    "\n",
    "X_dev = dataset[\"dev\"][\"X_dev\"]\n",
    "Y_dev = dataset[\"dev\"][\"Y_dev\"]\n",
    "\n",
    "X_test = dataset[\"test\"][\"X_test\"]\n",
    "Y_test = dataset[\"test\"][\"Y_test\"]"
   ]
  },
  {
   "cell_type": "code",
   "execution_count": 19,
   "id": "07f7de2a",
   "metadata": {},
   "outputs": [],
   "source": [
    "# Training initialization with hyper parameters\n",
    "g = torch.Generator().manual_seed(2147483647)\n",
    "C = torch.randn((27, emb_len), generator = g)\n",
    "W1 = torch.randn((emb_len * len_context, neurons), generator = g) \n",
    "b1 = torch.randn(neurons, generator = g)\n",
    "W2 = torch.randn((neurons, 27), generator = g)\n",
    "b2 = torch.randn(27, generator = g)\n",
    "parameters = [C, W1, b1, W2, b2]\n",
    "for p in parameters:\n",
    "    p.requires_grad = True"
   ]
  },
  {
   "cell_type": "code",
   "execution_count": 20,
   "id": "b2bb6e0d",
   "metadata": {},
   "outputs": [],
   "source": [
    "# Training\n",
    "lossi = []\n",
    "stepi = []\n",
    "\n",
    "for i in range(training_steps):\n",
    "    ix = torch.randint(0, X_tr.shape[0], (batch_size,))\n",
    "    # Forward pass\n",
    "    emb = C[X_tr[ix]]\n",
    "    h = torch.tanh(emb.view(-1, emb_len * len_context) @ W1 + b1)\n",
    "    logits = h @ W2 + b2\n",
    "    loss = F.cross_entropy(logits, Y_tr[ix])\n",
    "    for p in parameters:\n",
    "        p.grad = None\n",
    "    loss.backward()\n",
    "    for p in parameters:\n",
    "        lr = 0.1 if i < 100000 else 0.01\n",
    "        p.data += -lr * p.grad\n",
    "\n",
    "    stepi.append(i)\n",
    "    lossi.append(loss.log10().item())"
   ]
  },
  {
   "cell_type": "code",
   "execution_count": 11,
   "id": "2f1a7243",
   "metadata": {},
   "outputs": [
    {
     "name": "stdout",
     "output_type": "stream",
     "text": [
      "2.204420328140259\n"
     ]
    }
   ],
   "source": [
    "# Train\n",
    "emb = C[X_tr]\n",
    "h = torch.tanh(emb.view(-1, emb_len * len_context) @ W1 + b1)\n",
    "logits = h @ W2 + b2\n",
    "loss = F.cross_entropy(logits, Y_tr)\n",
    "print(loss.item())"
   ]
  },
  {
   "cell_type": "code",
   "execution_count": 12,
   "id": "57cbb903",
   "metadata": {},
   "outputs": [
    {
     "name": "stdout",
     "output_type": "stream",
     "text": [
      "2.330301284790039\n"
     ]
    }
   ],
   "source": [
    "# Dev\n",
    "emb = C[X_dev]\n",
    "h = torch.tanh(emb.view(-1, emb_len * len_context) @ W1 + b1)\n",
    "logits = h @ W2 + b2\n",
    "val_loss = F.cross_entropy(logits, Y_dev)\n",
    "print(val_loss.item())"
   ]
  },
  {
   "cell_type": "code",
   "execution_count": 14,
   "id": "03982681",
   "metadata": {},
   "outputs": [],
   "source": [
    "loss_metrics_old = {}"
   ]
  },
  {
   "cell_type": "code",
   "execution_count": 15,
   "id": "6ea16fb2",
   "metadata": {},
   "outputs": [],
   "source": [
    "import json\n",
    "o = {\"emb_len\": emb_len,\n",
    "      \"batch_size\": batch_size,\n",
    "      \"neurons\": neurons,\n",
    "     \"training_steps\": training_steps,\n",
    "    \"len_context\": len_context\n",
    "    }\n",
    "loss_metrics_old[json.dumps(o)] = val_loss.item()\n"
   ]
  },
  {
   "cell_type": "code",
   "execution_count": 16,
   "id": "384325b0",
   "metadata": {},
   "outputs": [
    {
     "data": {
      "text/plain": [
       "{'{\"emb_len\": 3, \"batch_size\": 64, \"neurons\": 100, \"training_steps\": 1000000, \"len_context\": 12}': 2.330301284790039}"
      ]
     },
     "execution_count": 16,
     "metadata": {},
     "output_type": "execute_result"
    }
   ],
   "source": [
    "loss_metrics_old"
   ]
  },
  {
   "cell_type": "code",
   "execution_count": null,
   "id": "026b6ec7",
   "metadata": {},
   "outputs": [],
   "source": []
  }
 ],
 "metadata": {
  "kernelspec": {
   "display_name": "Python 3 (ipykernel)",
   "language": "python",
   "name": "python3"
  },
  "language_info": {
   "codemirror_mode": {
    "name": "ipython",
    "version": 3
   },
   "file_extension": ".py",
   "mimetype": "text/x-python",
   "name": "python",
   "nbconvert_exporter": "python",
   "pygments_lexer": "ipython3",
   "version": "3.10.6"
  }
 },
 "nbformat": 4,
 "nbformat_minor": 5
}
