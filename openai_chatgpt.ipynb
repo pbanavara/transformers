{
 "cells": [
  {
   "cell_type": "code",
   "execution_count": 1,
   "id": "84035c57",
   "metadata": {},
   "outputs": [],
   "source": [
    "import os\n",
    "import openai\n",
    "import utils\n",
    "from dotenv import load_dotenv, find_dotenv\n",
    "_ = load_dotenv(find_dotenv())\n",
    "openai.api_key = os.environ['OPENAI_API_KEY']\n",
    "openai.model = os.environ['OPENAI_API_MODEL']"
   ]
  },
  {
   "cell_type": "code",
   "execution_count": 2,
   "id": "2a926887",
   "metadata": {},
   "outputs": [],
   "source": [
    "def get_completion_from_messages(messages, temperature=0, max_tokens=500):\n",
    "    response = openai.ChatCompletion.create(\n",
    "        model = openai.model,\n",
    "        messages = messages,\n",
    "        temperature = temperature,\n",
    "        max_tokens = max_tokens\n",
    "    )\n",
    "    return response.choices[0].message[\"content\"]\n",
    "    "
   ]
  },
  {
   "cell_type": "code",
   "execution_count": 25,
   "id": "bc6169bc",
   "metadata": {},
   "outputs": [],
   "source": [
    "delimiter = \"####\"\n",
    "system_message = f\"\"\"\n",
    "You will be provided with movie selection queries. \\\n",
    "The user query will be delimited with {delimiter} characters \\\n",
    "Output a python list of objects where each object has the \\\n",
    "format 'movie': 'movie name', 'genre', 'IMDB rating'\n",
    "Only output list of movies and genres nothing else.\n",
    "\"\"\"\n",
    "\n",
    "user_message = f\"\"\"\n",
    "give me a list of crime genre movies with imdb rating above 7\n",
    "\"\"\"\n",
    "\n",
    "messages = [\n",
    "    {'role': 'system',\n",
    "     'content': system_message,\n",
    "    },\n",
    "    {\n",
    "     'role': 'user',\n",
    "     'content': f\"{delimiter}{user_message}{delimiter}\"\n",
    "    }\n",
    "]\n",
    "\n",
    "response = get_completion_from_messages(messages)"
   ]
  },
  {
   "cell_type": "code",
   "execution_count": 30,
   "id": "4f83b830",
   "metadata": {},
   "outputs": [
    {
     "name": "stdout",
     "output_type": "stream",
     "text": [
      "[\n",
      "{'movie': 'The Godfather', 'genre': 'Crime', 'IMDB rating': 9.2},\n",
      "{'movie': 'The Dark Knight', 'genre': 'Crime', 'IMDB rating': 9.0},\n",
      "{'movie': 'Pulp Fiction', 'genre': 'Crime', 'IMDB rating': 8.9},\n",
      "{'movie': 'The Godfather: Part II', 'genre': 'Crime', 'IMDB rating': 9.0},\n",
      "{'movie': 'Goodfellas', 'genre': 'Crime', 'IMDB rating': 8.7},\n",
      "{'movie': 'The Departed', 'genre': 'Crime', 'IMDB rating': 8.5},\n",
      "{'movie': 'The Silence of the Lambs', 'genre': 'Crime', 'IMDB rating': 8.6},\n",
      "{'movie': 'L.A. Confidential', 'genre': 'Crime', 'IMDB rating': 8.2},\n",
      "{'movie': 'Heat', 'genre': 'Crime', 'IMDB rating': 8.2},\n",
      "{'movie': 'The Usual Suspects', 'genre': 'Crime', 'IMDB rating': 8.5},\n",
      "{'movie': 'Se7en', 'genre': 'Crime', 'IMDB rating': 8.6},\n",
      "{'movie': 'Memento', 'genre': 'Crime', 'IMDB rating': 8.4},\n",
      "{'movie': 'The Departed', 'genre': 'Crime', 'IMDB rating': 8.5},\n",
      "{'movie': 'The Shawshank Redemption', 'genre': 'Crime', 'IMDB rating': 9.3},\n",
      "{'movie': 'The Green Mile', 'genre': 'Crime', 'IMDB rating': 8.6},\n",
      "{'movie': 'The Hateful Eight', 'genre': 'Crime', 'IMDB rating': 7.8},\n",
      "{'movie': 'The Irishman', 'genre': 'Crime', 'IMDB rating': 7.9},\n",
      "{'movie': 'Joker', 'genre': 'Crime', 'IMDB rating': 8.5},\n",
      "{'movie': 'The Town', 'genre': 'Crime', 'IMDB rating': 7.5},\n",
      "{'movie': 'The French Connection', 'genre': 'Crime', 'IMDB rating': 7.7},\n",
      "{'movie': 'The Killing', 'genre': 'Crime\n"
     ]
    }
   ],
   "source": [
    "print(response)"
   ]
  },
  {
   "cell_type": "code",
   "execution_count": 29,
   "id": "8a38d5a5",
   "metadata": {},
   "outputs": [
    {
     "name": "stdout",
     "output_type": "stream",
     "text": [
      "Sure, here are some highly rated crime movies: \n",
      "- The Godfather\n",
      "- The Dark Knight\n",
      "- Pulp Fiction\n",
      "- Goodfellas\n",
      "- The Silence of the Lambs\n",
      "- Se7en\n",
      "- Memento\n",
      "- The Shawshank Redemption\n",
      "- The Irishman\n",
      "- Joker\n",
      "\n",
      "Do you have any specific preferences in terms of actors, directors, or time period?\n"
     ]
    }
   ],
   "source": [
    "system_message = f\"\"\"\n",
    "You are a customer service assistant for a \\\n",
    "movie recommendation service \\\n",
    "Respond in a friendly and helpful tone, \\\n",
    "with very concise answers. \\\n",
    "Make sure to ask the user relevant follow up questions.\n",
    "\"\"\"\n",
    "user_message_1 = f\"\"\"\n",
    "Find me movies in the crime genre only\"\"\"\n",
    "messages =  [  \n",
    "{'role':'system',\n",
    " 'content': system_message},   \n",
    "{'role':'user',\n",
    " 'content': user_message_1},  \n",
    "{'role':'assistant',\n",
    " 'content': f\"\"\"Relevant movie information:\\n\\\n",
    " {response}\"\"\"},   \n",
    "]\n",
    "final_response = get_completion_from_messages(messages)\n",
    "print(final_response)"
   ]
  },
  {
   "cell_type": "code",
   "execution_count": 42,
   "id": "69738b6b",
   "metadata": {},
   "outputs": [
    {
     "name": "stdout",
     "output_type": "stream",
     "text": [
      "To answer your previous question, here are the movies directed by Christopher Nolan:\n",
      "- Memento\n",
      "- Insomnia\n",
      "- Batman Begins\n",
      "- The Prestige\n",
      "- The Dark Knight\n",
      "- Inception\n",
      "- The Dark Knight Rises\n",
      "- Interstellar\n",
      "- Dunkirk\n",
      "\n",
      "Let me know if you need any further assistance!\n"
     ]
    }
   ],
   "source": [
    "system_message = f\"\"\"\n",
    "You are a customer service assistant for a \\\n",
    "movie recommendation service \\\n",
    "Respond in a friendly and helpful tone, \\\n",
    "with very concise answers. \\\n",
    "Output a python list of objects 'movies':<list of movie names>\n",
    "\"\"\"\n",
    "user_message_1 = f\"\"\"\n",
    "Of these movies find those directed by Christopher Nolan\"\"\"\n",
    "messages =  [  \n",
    "{'role':'system',\n",
    " 'content': system_message},   \n",
    "{'role':'user',\n",
    " 'content': user_message_1},  \n",
    "{'role':'assistant',\n",
    " 'content': f\"\"\"Relevant movie information:\\n\\\n",
    " {final_response}\"\"\"},   \n",
    "]\n",
    "last_response = get_completion_from_messages(messages)\n",
    "print(last_response)"
   ]
  },
  {
   "cell_type": "code",
   "execution_count": 43,
   "id": "df67a657",
   "metadata": {},
   "outputs": [],
   "source": [
    "from collections import defaultdict\n",
    "user_context = defaultdict(list)\n",
    "def store_last_response(response):\n",
    "    user_context['pradeep-movies'].append(response)\n",
    "    \n",
    "store_last_response(last_response)"
   ]
  },
  {
   "cell_type": "code",
   "execution_count": 44,
   "id": "1a05d38d",
   "metadata": {},
   "outputs": [
    {
     "name": "stdout",
     "output_type": "stream",
     "text": [
      "defaultdict(<class 'list'>, {'pradeep-movies': ['To answer your previous question, here are the movies directed by Christopher Nolan:\\n- Memento\\n- Insomnia\\n- Batman Begins\\n- The Prestige\\n- The Dark Knight\\n- Inception\\n- The Dark Knight Rises\\n- Interstellar\\n- Dunkirk\\n\\nLet me know if you need any further assistance!']})\n"
     ]
    }
   ],
   "source": [
    "print(user_context)"
   ]
  },
  {
   "cell_type": "code",
   "execution_count": null,
   "id": "9fac6f0d",
   "metadata": {},
   "outputs": [],
   "source": []
  }
 ],
 "metadata": {
  "kernelspec": {
   "display_name": "Python 3 (ipykernel)",
   "language": "python",
   "name": "python3"
  },
  "language_info": {
   "codemirror_mode": {
    "name": "ipython",
    "version": 3
   },
   "file_extension": ".py",
   "mimetype": "text/x-python",
   "name": "python",
   "nbconvert_exporter": "python",
   "pygments_lexer": "ipython3",
   "version": "3.10.6"
  }
 },
 "nbformat": 4,
 "nbformat_minor": 5
}
